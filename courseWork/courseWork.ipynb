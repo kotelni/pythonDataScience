{
 "cells": [
  {
   "cell_type": "markdown",
   "metadata": {},
   "source": [
    "# Курсовой проект"
   ]
  },
  {
   "cell_type": "markdown",
   "metadata": {},
   "source": [
    "Display name on kaggle: <b>Denis Kotelnikov</b>\n",
    "<p>\n",
    "Public score: <b>0.72386</b>"
   ]
  },
  {
   "cell_type": "markdown",
   "metadata": {},
   "source": [
    "## Вспомогательные определения"
   ]
  },
  {
   "cell_type": "code",
   "execution_count": 64,
   "metadata": {},
   "outputs": [],
   "source": [
    "import numpy as np\n",
    "import pandas as pd\n",
    "import random\n",
    "\n",
    "from sklearn.linear_model import LinearRegression\n",
    "from sklearn.model_selection import train_test_split, cross_val_score\n",
    "from sklearn.preprocessing import StandardScaler, RobustScaler\n",
    "from sklearn.ensemble import RandomForestRegressor\n",
    "from sklearn.metrics import r2_score as r2\n",
    "from sklearn.model_selection import KFold, GridSearchCV\n",
    "\n",
    "from datetime import datetime\n",
    "\n",
    "import matplotlib\n",
    "import matplotlib.pyplot as plt\n",
    "import seaborn as sns\n",
    "%matplotlib inline\n",
    "\n",
    "import warnings\n",
    "warnings.filterwarnings('ignore')"
   ]
  },
  {
   "cell_type": "code",
   "execution_count": 65,
   "metadata": {
    "collapsed": true
   },
   "outputs": [],
   "source": [
    "def evaluate_preds(true_values, pred_values):\n",
    "    print(\"Train R2:\\t\" + str(round(r2(true_values, pred_values), 3)));\n",
    "    \n",
    "    plt.figure(figsize=(18,10));\n",
    "    \n",
    "    sns.jointplot(x=pred_values, y=true_values);\n",
    "    plt.xlabel('Predicted values');\n",
    "    plt.ylabel('True values');\n",
    "    plt.title('Prediction');\n",
    "    \n",
    "    plt.show();"
   ]
  },
  {
   "cell_type": "markdown",
   "metadata": {},
   "source": [
    "## 1. Чистка данных (EDA)"
   ]
  },
  {
   "cell_type": "markdown",
   "metadata": {},
   "source": [
    "После анализа данных в колонках будем создавать функции, которые можно будет вызвать на тестовом датасете, чтобы его почистить."
   ]
  },
  {
   "cell_type": "code",
   "execution_count": 66,
   "metadata": {
    "collapsed": true
   },
   "outputs": [],
   "source": [
    "TRAIN_DATASET_PATH = 'train.csv'\n",
    "TEST_DATASET_PATH = 'test.csv'"
   ]
  },
  {
   "cell_type": "code",
   "execution_count": 67,
   "metadata": {},
   "outputs": [
    {
     "data": {
      "text/html": [
       "<div>\n",
       "<style>\n",
       "    .dataframe thead tr:only-child th {\n",
       "        text-align: right;\n",
       "    }\n",
       "\n",
       "    .dataframe thead th {\n",
       "        text-align: left;\n",
       "    }\n",
       "\n",
       "    .dataframe tbody tr th {\n",
       "        vertical-align: top;\n",
       "    }\n",
       "</style>\n",
       "<table border=\"1\" class=\"dataframe\">\n",
       "  <thead>\n",
       "    <tr style=\"text-align: right;\">\n",
       "      <th></th>\n",
       "      <th>Id</th>\n",
       "      <th>DistrictId</th>\n",
       "      <th>Rooms</th>\n",
       "      <th>Square</th>\n",
       "      <th>LifeSquare</th>\n",
       "      <th>KitchenSquare</th>\n",
       "      <th>Floor</th>\n",
       "      <th>HouseFloor</th>\n",
       "      <th>HouseYear</th>\n",
       "      <th>Ecology_1</th>\n",
       "      <th>Ecology_2</th>\n",
       "      <th>Ecology_3</th>\n",
       "      <th>Social_1</th>\n",
       "      <th>Social_2</th>\n",
       "      <th>Social_3</th>\n",
       "      <th>Healthcare_1</th>\n",
       "      <th>Helthcare_2</th>\n",
       "      <th>Shops_1</th>\n",
       "      <th>Shops_2</th>\n",
       "      <th>Price</th>\n",
       "    </tr>\n",
       "  </thead>\n",
       "  <tbody>\n",
       "    <tr>\n",
       "      <th>0</th>\n",
       "      <td>14038</td>\n",
       "      <td>35</td>\n",
       "      <td>2.0</td>\n",
       "      <td>47.981561</td>\n",
       "      <td>29.442751</td>\n",
       "      <td>6.0</td>\n",
       "      <td>7</td>\n",
       "      <td>9.0</td>\n",
       "      <td>1969</td>\n",
       "      <td>0.089040</td>\n",
       "      <td>B</td>\n",
       "      <td>B</td>\n",
       "      <td>33</td>\n",
       "      <td>7976</td>\n",
       "      <td>5</td>\n",
       "      <td>NaN</td>\n",
       "      <td>0</td>\n",
       "      <td>11</td>\n",
       "      <td>B</td>\n",
       "      <td>184966.930730</td>\n",
       "    </tr>\n",
       "    <tr>\n",
       "      <th>1</th>\n",
       "      <td>15053</td>\n",
       "      <td>41</td>\n",
       "      <td>3.0</td>\n",
       "      <td>65.683640</td>\n",
       "      <td>40.049543</td>\n",
       "      <td>8.0</td>\n",
       "      <td>7</td>\n",
       "      <td>9.0</td>\n",
       "      <td>1978</td>\n",
       "      <td>0.000070</td>\n",
       "      <td>B</td>\n",
       "      <td>B</td>\n",
       "      <td>46</td>\n",
       "      <td>10309</td>\n",
       "      <td>1</td>\n",
       "      <td>240.0</td>\n",
       "      <td>1</td>\n",
       "      <td>16</td>\n",
       "      <td>B</td>\n",
       "      <td>300009.450063</td>\n",
       "    </tr>\n",
       "    <tr>\n",
       "      <th>2</th>\n",
       "      <td>4765</td>\n",
       "      <td>53</td>\n",
       "      <td>2.0</td>\n",
       "      <td>44.947953</td>\n",
       "      <td>29.197612</td>\n",
       "      <td>0.0</td>\n",
       "      <td>8</td>\n",
       "      <td>12.0</td>\n",
       "      <td>1968</td>\n",
       "      <td>0.049637</td>\n",
       "      <td>B</td>\n",
       "      <td>B</td>\n",
       "      <td>34</td>\n",
       "      <td>7759</td>\n",
       "      <td>0</td>\n",
       "      <td>229.0</td>\n",
       "      <td>1</td>\n",
       "      <td>3</td>\n",
       "      <td>B</td>\n",
       "      <td>220925.908524</td>\n",
       "    </tr>\n",
       "    <tr>\n",
       "      <th>3</th>\n",
       "      <td>5809</td>\n",
       "      <td>58</td>\n",
       "      <td>2.0</td>\n",
       "      <td>53.352981</td>\n",
       "      <td>52.731512</td>\n",
       "      <td>9.0</td>\n",
       "      <td>8</td>\n",
       "      <td>17.0</td>\n",
       "      <td>1977</td>\n",
       "      <td>0.437885</td>\n",
       "      <td>B</td>\n",
       "      <td>B</td>\n",
       "      <td>23</td>\n",
       "      <td>5735</td>\n",
       "      <td>3</td>\n",
       "      <td>1084.0</td>\n",
       "      <td>0</td>\n",
       "      <td>5</td>\n",
       "      <td>B</td>\n",
       "      <td>175616.227217</td>\n",
       "    </tr>\n",
       "    <tr>\n",
       "      <th>4</th>\n",
       "      <td>10783</td>\n",
       "      <td>99</td>\n",
       "      <td>1.0</td>\n",
       "      <td>39.649192</td>\n",
       "      <td>23.776169</td>\n",
       "      <td>7.0</td>\n",
       "      <td>11</td>\n",
       "      <td>12.0</td>\n",
       "      <td>1976</td>\n",
       "      <td>0.012339</td>\n",
       "      <td>B</td>\n",
       "      <td>B</td>\n",
       "      <td>35</td>\n",
       "      <td>5776</td>\n",
       "      <td>1</td>\n",
       "      <td>2078.0</td>\n",
       "      <td>2</td>\n",
       "      <td>4</td>\n",
       "      <td>B</td>\n",
       "      <td>150226.531644</td>\n",
       "    </tr>\n",
       "  </tbody>\n",
       "</table>\n",
       "</div>"
      ],
      "text/plain": [
       "      Id  DistrictId  Rooms     Square  LifeSquare  KitchenSquare  Floor  \\\n",
       "0  14038          35    2.0  47.981561   29.442751            6.0      7   \n",
       "1  15053          41    3.0  65.683640   40.049543            8.0      7   \n",
       "2   4765          53    2.0  44.947953   29.197612            0.0      8   \n",
       "3   5809          58    2.0  53.352981   52.731512            9.0      8   \n",
       "4  10783          99    1.0  39.649192   23.776169            7.0     11   \n",
       "\n",
       "   HouseFloor  HouseYear  Ecology_1 Ecology_2 Ecology_3  Social_1  Social_2  \\\n",
       "0         9.0       1969   0.089040         B         B        33      7976   \n",
       "1         9.0       1978   0.000070         B         B        46     10309   \n",
       "2        12.0       1968   0.049637         B         B        34      7759   \n",
       "3        17.0       1977   0.437885         B         B        23      5735   \n",
       "4        12.0       1976   0.012339         B         B        35      5776   \n",
       "\n",
       "   Social_3  Healthcare_1  Helthcare_2  Shops_1 Shops_2          Price  \n",
       "0         5           NaN            0       11       B  184966.930730  \n",
       "1         1         240.0            1       16       B  300009.450063  \n",
       "2         0         229.0            1        3       B  220925.908524  \n",
       "3         3        1084.0            0        5       B  175616.227217  \n",
       "4         1        2078.0            2        4       B  150226.531644  "
      ]
     },
     "execution_count": 67,
     "metadata": {},
     "output_type": "execute_result"
    }
   ],
   "source": [
    "train_df = pd.read_csv(TRAIN_DATASET_PATH)\n",
    "train_df.head()"
   ]
  },
  {
   "cell_type": "code",
   "execution_count": 68,
   "metadata": {},
   "outputs": [
    {
     "name": "stdout",
     "output_type": "stream",
     "text": [
      "<class 'pandas.core.frame.DataFrame'>\n",
      "RangeIndex: 10000 entries, 0 to 9999\n",
      "Data columns (total 20 columns):\n",
      "Id               10000 non-null int64\n",
      "DistrictId       10000 non-null int64\n",
      "Rooms            10000 non-null float64\n",
      "Square           10000 non-null float64\n",
      "LifeSquare       7887 non-null float64\n",
      "KitchenSquare    10000 non-null float64\n",
      "Floor            10000 non-null int64\n",
      "HouseFloor       10000 non-null float64\n",
      "HouseYear        10000 non-null int64\n",
      "Ecology_1        10000 non-null float64\n",
      "Ecology_2        10000 non-null object\n",
      "Ecology_3        10000 non-null object\n",
      "Social_1         10000 non-null int64\n",
      "Social_2         10000 non-null int64\n",
      "Social_3         10000 non-null int64\n",
      "Healthcare_1     5202 non-null float64\n",
      "Helthcare_2      10000 non-null int64\n",
      "Shops_1          10000 non-null int64\n",
      "Shops_2          10000 non-null object\n",
      "Price            10000 non-null float64\n",
      "dtypes: float64(8), int64(9), object(3)\n",
      "memory usage: 1.5+ MB\n"
     ]
    }
   ],
   "source": [
    "train_df.info()"
   ]
  },
  {
   "cell_type": "code",
   "execution_count": 69,
   "metadata": {},
   "outputs": [
    {
     "name": "stdout",
     "output_type": "stream",
     "text": [
      "<class 'pandas.core.frame.DataFrame'>\n",
      "Int64Index: 15000 entries, 0 to 4999\n",
      "Data columns (total 20 columns):\n",
      "DistrictId       15000 non-null int64\n",
      "Ecology_1        15000 non-null float64\n",
      "Ecology_2        15000 non-null object\n",
      "Ecology_3        15000 non-null object\n",
      "Floor            15000 non-null int64\n",
      "Healthcare_1     7825 non-null float64\n",
      "Helthcare_2      15000 non-null int64\n",
      "HouseFloor       15000 non-null float64\n",
      "HouseYear        15000 non-null int64\n",
      "Id               15000 non-null int64\n",
      "KitchenSquare    15000 non-null float64\n",
      "LifeSquare       11846 non-null float64\n",
      "Price            10000 non-null float64\n",
      "Rooms            15000 non-null float64\n",
      "Shops_1          15000 non-null int64\n",
      "Shops_2          15000 non-null object\n",
      "Social_1         15000 non-null int64\n",
      "Social_2         15000 non-null int64\n",
      "Social_3         15000 non-null int64\n",
      "Square           15000 non-null float64\n",
      "dtypes: float64(8), int64(9), object(3)\n",
      "memory usage: 2.4+ MB\n"
     ]
    }
   ],
   "source": [
    "test_df = pd.read_csv(TEST_DATASET_PATH)\n",
    "total_df = pd.concat([train_df, test_df], axis=0) #ignore_index=True)\n",
    "#total_df.to_csv(\"total.csv\", index=False)\n",
    "total_df.info()"
   ]
  },
  {
   "cell_type": "markdown",
   "metadata": {},
   "source": [
    "### 1.1 Разбираемся с пустыми ячейками (null) и object"
   ]
  },
  {
   "cell_type": "markdown",
   "metadata": {},
   "source": [
    "LifeSquare и Healthcare_1 имеют много пустых ячеек. Для простоты выбросим обе эти колонки."
   ]
  },
  {
   "cell_type": "code",
   "execution_count": 70,
   "metadata": {},
   "outputs": [
    {
     "name": "stdout",
     "output_type": "stream",
     "text": [
      "<class 'pandas.core.frame.DataFrame'>\n",
      "RangeIndex: 10000 entries, 0 to 9999\n",
      "Data columns (total 18 columns):\n",
      "Id               10000 non-null int64\n",
      "DistrictId       10000 non-null int64\n",
      "Rooms            10000 non-null float64\n",
      "Square           10000 non-null float64\n",
      "KitchenSquare    10000 non-null float64\n",
      "Floor            10000 non-null int64\n",
      "HouseFloor       10000 non-null float64\n",
      "HouseYear        10000 non-null int64\n",
      "Ecology_1        10000 non-null float64\n",
      "Ecology_2        10000 non-null object\n",
      "Ecology_3        10000 non-null object\n",
      "Social_1         10000 non-null int64\n",
      "Social_2         10000 non-null int64\n",
      "Social_3         10000 non-null int64\n",
      "Helthcare_2      10000 non-null int64\n",
      "Shops_1          10000 non-null int64\n",
      "Shops_2          10000 non-null object\n",
      "Price            10000 non-null float64\n",
      "dtypes: float64(6), int64(9), object(3)\n",
      "memory usage: 1.4+ MB\n"
     ]
    }
   ],
   "source": [
    "def handleNulls(df):\n",
    "    df.drop('LifeSquare', axis=1, inplace=True)\n",
    "    df.drop('Healthcare_1', axis=1, inplace=True)\n",
    "\n",
    "handleNulls(train_df)\n",
    "train_df.info()"
   ]
  },
  {
   "cell_type": "code",
   "execution_count": 71,
   "metadata": {},
   "outputs": [
    {
     "name": "stdout",
     "output_type": "stream",
     "text": [
      "<class 'pandas.core.frame.DataFrame'>\n",
      "RangeIndex: 10000 entries, 0 to 9999\n",
      "Data columns (total 18 columns):\n",
      "Id               10000 non-null int64\n",
      "DistrictId       10000 non-null int64\n",
      "Rooms            10000 non-null float64\n",
      "Square           10000 non-null float64\n",
      "KitchenSquare    10000 non-null float64\n",
      "Floor            10000 non-null int64\n",
      "HouseFloor       10000 non-null float64\n",
      "HouseYear        10000 non-null int64\n",
      "Ecology_1        10000 non-null float64\n",
      "Ecology_2        10000 non-null int64\n",
      "Ecology_3        10000 non-null int64\n",
      "Social_1         10000 non-null int64\n",
      "Social_2         10000 non-null int64\n",
      "Social_3         10000 non-null int64\n",
      "Helthcare_2      10000 non-null int64\n",
      "Shops_1          10000 non-null int64\n",
      "Shops_2          10000 non-null int64\n",
      "Price            10000 non-null float64\n",
      "dtypes: float64(6), int64(12)\n",
      "memory usage: 1.4 MB\n"
     ]
    }
   ],
   "source": [
    "def handleObjects(df):\n",
    "    binary_to_numbers = {'A': 0, 'B': 1}\n",
    "    df['Ecology_2'] = df['Ecology_2'].replace(binary_to_numbers)\n",
    "    df['Ecology_3'] = df['Ecology_3'].replace(binary_to_numbers)\n",
    "    df['Shops_2'] = df['Shops_2'].replace(binary_to_numbers)\n",
    "    \n",
    "handleObjects(train_df)\n",
    "train_df.info()"
   ]
  },
  {
   "cell_type": "markdown",
   "metadata": {},
   "source": [
    "### 1.2 Выбросы"
   ]
  },
  {
   "cell_type": "markdown",
   "metadata": {},
   "source": [
    "<b>KitchenSquare"
   ]
  },
  {
   "cell_type": "code",
   "execution_count": 72,
   "metadata": {
    "scrolled": true
   },
   "outputs": [
    {
     "data": {
      "text/plain": [
       "0.0        697\n",
       "1.0       2460\n",
       "2.0          4\n",
       "3.0         22\n",
       "4.0         39\n",
       "5.0       1169\n",
       "6.0       1038\n",
       "7.0        609\n",
       "8.0       1306\n",
       "9.0        843\n",
       "10.0      1075\n",
       "11.0       233\n",
       "12.0       249\n",
       "13.0        67\n",
       "14.0        51\n",
       "15.0        31\n",
       "16.0        16\n",
       "17.0        12\n",
       "18.0         6\n",
       "19.0        11\n",
       "20.0        14\n",
       "21.0         1\n",
       "22.0         3\n",
       "23.0         1\n",
       "25.0         2\n",
       "26.0         1\n",
       "27.0         1\n",
       "29.0         1\n",
       "30.0         2\n",
       "31.0         1\n",
       "32.0         2\n",
       "35.0         1\n",
       "36.0         1\n",
       "37.0         2\n",
       "39.0         1\n",
       "40.0         1\n",
       "41.0         2\n",
       "42.0         1\n",
       "43.0         2\n",
       "48.0         1\n",
       "51.0         2\n",
       "53.0         1\n",
       "54.0         1\n",
       "58.0         2\n",
       "60.0         1\n",
       "62.0         1\n",
       "63.0         1\n",
       "66.0         1\n",
       "72.0         1\n",
       "73.0         1\n",
       "75.0         1\n",
       "78.0         1\n",
       "84.0         1\n",
       "96.0         1\n",
       "112.0        2\n",
       "123.0        1\n",
       "1970.0       1\n",
       "2014.0       1\n",
       "Name: KitchenSquare, dtype: int64"
      ]
     },
     "execution_count": 72,
     "metadata": {},
     "output_type": "execute_result"
    }
   ],
   "source": [
    "train_df['KitchenSquare'].value_counts().sort_index()"
   ]
  },
  {
   "cell_type": "code",
   "execution_count": 73,
   "metadata": {
    "scrolled": false
   },
   "outputs": [
    {
     "data": {
      "text/plain": [
       "4.0     3222\n",
       "5.0     1169\n",
       "6.0     1038\n",
       "7.0      609\n",
       "8.0     1306\n",
       "9.0      843\n",
       "10.0    1075\n",
       "11.0     233\n",
       "12.0     249\n",
       "13.0      67\n",
       "14.0      51\n",
       "15.0      31\n",
       "16.0      16\n",
       "17.0      12\n",
       "18.0       6\n",
       "19.0      11\n",
       "20.0      62\n",
       "Name: KitchenSquare, dtype: int64"
      ]
     },
     "execution_count": 73,
     "metadata": {},
     "output_type": "execute_result"
    }
   ],
   "source": [
    "def cleanKitchenSquare(df):\n",
    "    df.loc[df['KitchenSquare'] < 4, 'KitchenSquare'] = 4\n",
    "    df.loc[df['KitchenSquare'] > 20, 'KitchenSquare'] = 20\n",
    "\n",
    "cleanKitchenSquare(train_df)\n",
    "train_df['KitchenSquare'].value_counts().sort_index()"
   ]
  },
  {
   "cell_type": "markdown",
   "metadata": {},
   "source": [
    "<b>Floor"
   ]
  },
  {
   "cell_type": "code",
   "execution_count": 74,
   "metadata": {},
   "outputs": [
    {
     "data": {
      "text/plain": [
       "1825"
      ]
     },
     "execution_count": 74,
     "metadata": {},
     "output_type": "execute_result"
    }
   ],
   "source": [
    "train_df.loc[train_df['Floor'] > train_df['HouseFloor'], 'Floor'].count()"
   ]
  },
  {
   "cell_type": "code",
   "execution_count": 75,
   "metadata": {},
   "outputs": [
    {
     "data": {
      "text/plain": [
       "count    15000.000000\n",
       "mean        12.606600\n",
       "std          6.780165\n",
       "min          0.000000\n",
       "25%          9.000000\n",
       "50%         12.000000\n",
       "75%         17.000000\n",
       "max        117.000000\n",
       "Name: HouseFloor, dtype: float64"
      ]
     },
     "execution_count": 75,
     "metadata": {},
     "output_type": "execute_result"
    }
   ],
   "source": [
    "total_df['HouseFloor'].describe()"
   ]
  },
  {
   "cell_type": "code",
   "execution_count": 76,
   "metadata": {},
   "outputs": [
    {
     "data": {
      "text/html": [
       "<div>\n",
       "<style>\n",
       "    .dataframe thead tr:only-child th {\n",
       "        text-align: right;\n",
       "    }\n",
       "\n",
       "    .dataframe thead th {\n",
       "        text-align: left;\n",
       "    }\n",
       "\n",
       "    .dataframe tbody tr th {\n",
       "        vertical-align: top;\n",
       "    }\n",
       "</style>\n",
       "<table border=\"1\" class=\"dataframe\">\n",
       "  <thead>\n",
       "    <tr style=\"text-align: right;\">\n",
       "      <th></th>\n",
       "      <th>Id</th>\n",
       "      <th>DistrictId</th>\n",
       "      <th>Rooms</th>\n",
       "      <th>Square</th>\n",
       "      <th>KitchenSquare</th>\n",
       "      <th>Floor</th>\n",
       "      <th>HouseFloor</th>\n",
       "      <th>HouseYear</th>\n",
       "      <th>Ecology_1</th>\n",
       "      <th>Ecology_2</th>\n",
       "      <th>Ecology_3</th>\n",
       "      <th>Social_1</th>\n",
       "      <th>Social_2</th>\n",
       "      <th>Social_3</th>\n",
       "      <th>Helthcare_2</th>\n",
       "      <th>Shops_1</th>\n",
       "      <th>Shops_2</th>\n",
       "      <th>Price</th>\n",
       "    </tr>\n",
       "  </thead>\n",
       "  <tbody>\n",
       "    <tr>\n",
       "      <th>7</th>\n",
       "      <td>11993</td>\n",
       "      <td>74</td>\n",
       "      <td>2.0</td>\n",
       "      <td>80.312926</td>\n",
       "      <td>4.0</td>\n",
       "      <td>14</td>\n",
       "      <td>0.0</td>\n",
       "      <td>1977</td>\n",
       "      <td>0.075779</td>\n",
       "      <td>1</td>\n",
       "      <td>1</td>\n",
       "      <td>6</td>\n",
       "      <td>1437</td>\n",
       "      <td>3</td>\n",
       "      <td>0</td>\n",
       "      <td>2</td>\n",
       "      <td>1</td>\n",
       "      <td>221244.156664</td>\n",
       "    </tr>\n",
       "    <tr>\n",
       "      <th>14</th>\n",
       "      <td>10953</td>\n",
       "      <td>27</td>\n",
       "      <td>1.0</td>\n",
       "      <td>53.769097</td>\n",
       "      <td>4.0</td>\n",
       "      <td>5</td>\n",
       "      <td>4.0</td>\n",
       "      <td>1977</td>\n",
       "      <td>0.072158</td>\n",
       "      <td>1</td>\n",
       "      <td>1</td>\n",
       "      <td>2</td>\n",
       "      <td>629</td>\n",
       "      <td>1</td>\n",
       "      <td>0</td>\n",
       "      <td>0</td>\n",
       "      <td>0</td>\n",
       "      <td>140647.565937</td>\n",
       "    </tr>\n",
       "    <tr>\n",
       "      <th>16</th>\n",
       "      <td>2119</td>\n",
       "      <td>27</td>\n",
       "      <td>2.0</td>\n",
       "      <td>49.360648</td>\n",
       "      <td>5.0</td>\n",
       "      <td>6</td>\n",
       "      <td>5.0</td>\n",
       "      <td>1983</td>\n",
       "      <td>0.051815</td>\n",
       "      <td>1</td>\n",
       "      <td>1</td>\n",
       "      <td>5</td>\n",
       "      <td>1227</td>\n",
       "      <td>0</td>\n",
       "      <td>0</td>\n",
       "      <td>0</td>\n",
       "      <td>1</td>\n",
       "      <td>117000.381287</td>\n",
       "    </tr>\n",
       "    <tr>\n",
       "      <th>21</th>\n",
       "      <td>11935</td>\n",
       "      <td>27</td>\n",
       "      <td>2.0</td>\n",
       "      <td>64.711835</td>\n",
       "      <td>4.0</td>\n",
       "      <td>15</td>\n",
       "      <td>1.0</td>\n",
       "      <td>1977</td>\n",
       "      <td>0.211401</td>\n",
       "      <td>1</td>\n",
       "      <td>1</td>\n",
       "      <td>9</td>\n",
       "      <td>1892</td>\n",
       "      <td>0</td>\n",
       "      <td>0</td>\n",
       "      <td>1</td>\n",
       "      <td>1</td>\n",
       "      <td>127200.026511</td>\n",
       "    </tr>\n",
       "    <tr>\n",
       "      <th>23</th>\n",
       "      <td>6641</td>\n",
       "      <td>54</td>\n",
       "      <td>3.0</td>\n",
       "      <td>118.907612</td>\n",
       "      <td>4.0</td>\n",
       "      <td>2</td>\n",
       "      <td>0.0</td>\n",
       "      <td>1977</td>\n",
       "      <td>0.006076</td>\n",
       "      <td>1</td>\n",
       "      <td>1</td>\n",
       "      <td>30</td>\n",
       "      <td>5285</td>\n",
       "      <td>0</td>\n",
       "      <td>6</td>\n",
       "      <td>6</td>\n",
       "      <td>1</td>\n",
       "      <td>571069.052600</td>\n",
       "    </tr>\n",
       "  </tbody>\n",
       "</table>\n",
       "</div>"
      ],
      "text/plain": [
       "       Id  DistrictId  Rooms      Square  KitchenSquare  Floor  HouseFloor  \\\n",
       "7   11993          74    2.0   80.312926            4.0     14         0.0   \n",
       "14  10953          27    1.0   53.769097            4.0      5         4.0   \n",
       "16   2119          27    2.0   49.360648            5.0      6         5.0   \n",
       "21  11935          27    2.0   64.711835            4.0     15         1.0   \n",
       "23   6641          54    3.0  118.907612            4.0      2         0.0   \n",
       "\n",
       "    HouseYear  Ecology_1  Ecology_2  Ecology_3  Social_1  Social_2  Social_3  \\\n",
       "7        1977   0.075779          1          1         6      1437         3   \n",
       "14       1977   0.072158          1          1         2       629         1   \n",
       "16       1983   0.051815          1          1         5      1227         0   \n",
       "21       1977   0.211401          1          1         9      1892         0   \n",
       "23       1977   0.006076          1          1        30      5285         0   \n",
       "\n",
       "    Helthcare_2  Shops_1  Shops_2          Price  \n",
       "7             0        2        1  221244.156664  \n",
       "14            0        0        0  140647.565937  \n",
       "16            0        0        1  117000.381287  \n",
       "21            0        1        1  127200.026511  \n",
       "23            6        6        1  571069.052600  "
      ]
     },
     "execution_count": 76,
     "metadata": {},
     "output_type": "execute_result"
    }
   ],
   "source": [
    "train_df.query('Floor > HouseFloor').head()"
   ]
  },
  {
   "cell_type": "code",
   "execution_count": 77,
   "metadata": {
    "collapsed": true
   },
   "outputs": [],
   "source": [
    "def cleanFloor(df):\n",
    "    df.loc[train_df['HouseFloor'] == 0, 'HouseFloor'] = total_df['HouseFloor'].median()\n",
    "    aboveLastFloor = (df['Floor'] > df['HouseFloor']) \n",
    "    df.loc[aboveLastFloor, 'Floor'] = df.loc[aboveLastFloor, 'HouseFloor']\n",
    "    \n",
    "cleanFloor(train_df)"
   ]
  },
  {
   "cell_type": "code",
   "execution_count": 78,
   "metadata": {},
   "outputs": [
    {
     "data": {
      "text/html": [
       "<div>\n",
       "<style>\n",
       "    .dataframe thead tr:only-child th {\n",
       "        text-align: right;\n",
       "    }\n",
       "\n",
       "    .dataframe thead th {\n",
       "        text-align: left;\n",
       "    }\n",
       "\n",
       "    .dataframe tbody tr th {\n",
       "        vertical-align: top;\n",
       "    }\n",
       "</style>\n",
       "<table border=\"1\" class=\"dataframe\">\n",
       "  <thead>\n",
       "    <tr style=\"text-align: right;\">\n",
       "      <th></th>\n",
       "      <th>Id</th>\n",
       "      <th>DistrictId</th>\n",
       "      <th>Rooms</th>\n",
       "      <th>Square</th>\n",
       "      <th>KitchenSquare</th>\n",
       "      <th>Floor</th>\n",
       "      <th>HouseFloor</th>\n",
       "      <th>HouseYear</th>\n",
       "      <th>Ecology_1</th>\n",
       "      <th>Ecology_2</th>\n",
       "      <th>Ecology_3</th>\n",
       "      <th>Social_1</th>\n",
       "      <th>Social_2</th>\n",
       "      <th>Social_3</th>\n",
       "      <th>Helthcare_2</th>\n",
       "      <th>Shops_1</th>\n",
       "      <th>Shops_2</th>\n",
       "      <th>Price</th>\n",
       "    </tr>\n",
       "  </thead>\n",
       "  <tbody>\n",
       "  </tbody>\n",
       "</table>\n",
       "</div>"
      ],
      "text/plain": [
       "Empty DataFrame\n",
       "Columns: [Id, DistrictId, Rooms, Square, KitchenSquare, Floor, HouseFloor, HouseYear, Ecology_1, Ecology_2, Ecology_3, Social_1, Social_2, Social_3, Helthcare_2, Shops_1, Shops_2, Price]\n",
       "Index: []"
      ]
     },
     "execution_count": 78,
     "metadata": {},
     "output_type": "execute_result"
    }
   ],
   "source": [
    "train_df.query('Floor > HouseFloor')"
   ]
  },
  {
   "cell_type": "markdown",
   "metadata": {},
   "source": [
    "<b>HouseYear"
   ]
  },
  {
   "cell_type": "code",
   "execution_count": 79,
   "metadata": {},
   "outputs": [
    {
     "data": {
      "text/html": [
       "<div>\n",
       "<style>\n",
       "    .dataframe thead tr:only-child th {\n",
       "        text-align: right;\n",
       "    }\n",
       "\n",
       "    .dataframe thead th {\n",
       "        text-align: left;\n",
       "    }\n",
       "\n",
       "    .dataframe tbody tr th {\n",
       "        vertical-align: top;\n",
       "    }\n",
       "</style>\n",
       "<table border=\"1\" class=\"dataframe\">\n",
       "  <thead>\n",
       "    <tr style=\"text-align: right;\">\n",
       "      <th></th>\n",
       "      <th>DistrictId</th>\n",
       "      <th>Ecology_1</th>\n",
       "      <th>Ecology_2</th>\n",
       "      <th>Ecology_3</th>\n",
       "      <th>Floor</th>\n",
       "      <th>Healthcare_1</th>\n",
       "      <th>Helthcare_2</th>\n",
       "      <th>HouseFloor</th>\n",
       "      <th>HouseYear</th>\n",
       "      <th>Id</th>\n",
       "      <th>KitchenSquare</th>\n",
       "      <th>LifeSquare</th>\n",
       "      <th>Price</th>\n",
       "      <th>Rooms</th>\n",
       "      <th>Shops_1</th>\n",
       "      <th>Shops_2</th>\n",
       "      <th>Social_1</th>\n",
       "      <th>Social_2</th>\n",
       "      <th>Social_3</th>\n",
       "      <th>Square</th>\n",
       "    </tr>\n",
       "  </thead>\n",
       "  <tbody>\n",
       "    <tr>\n",
       "      <th>1497</th>\n",
       "      <td>109</td>\n",
       "      <td>0.136330</td>\n",
       "      <td>B</td>\n",
       "      <td>B</td>\n",
       "      <td>9</td>\n",
       "      <td>262.0</td>\n",
       "      <td>3</td>\n",
       "      <td>12.0</td>\n",
       "      <td>20052011</td>\n",
       "      <td>10814</td>\n",
       "      <td>9.0</td>\n",
       "      <td>20.239714</td>\n",
       "      <td>254084.534396</td>\n",
       "      <td>1.0</td>\n",
       "      <td>6</td>\n",
       "      <td>B</td>\n",
       "      <td>30</td>\n",
       "      <td>6141</td>\n",
       "      <td>10</td>\n",
       "      <td>37.265070</td>\n",
       "    </tr>\n",
       "    <tr>\n",
       "      <th>4189</th>\n",
       "      <td>147</td>\n",
       "      <td>0.319809</td>\n",
       "      <td>B</td>\n",
       "      <td>B</td>\n",
       "      <td>4</td>\n",
       "      <td>2857.0</td>\n",
       "      <td>5</td>\n",
       "      <td>9.0</td>\n",
       "      <td>4968</td>\n",
       "      <td>11607</td>\n",
       "      <td>5.0</td>\n",
       "      <td>28.360393</td>\n",
       "      <td>243028.603096</td>\n",
       "      <td>2.0</td>\n",
       "      <td>8</td>\n",
       "      <td>B</td>\n",
       "      <td>25</td>\n",
       "      <td>4756</td>\n",
       "      <td>16</td>\n",
       "      <td>44.791836</td>\n",
       "    </tr>\n",
       "  </tbody>\n",
       "</table>\n",
       "</div>"
      ],
      "text/plain": [
       "      DistrictId  Ecology_1 Ecology_2 Ecology_3  Floor  Healthcare_1  \\\n",
       "1497         109   0.136330         B         B      9         262.0   \n",
       "4189         147   0.319809         B         B      4        2857.0   \n",
       "\n",
       "      Helthcare_2  HouseFloor  HouseYear     Id  KitchenSquare  LifeSquare  \\\n",
       "1497            3        12.0   20052011  10814            9.0   20.239714   \n",
       "4189            5         9.0       4968  11607            5.0   28.360393   \n",
       "\n",
       "              Price  Rooms  Shops_1 Shops_2  Social_1  Social_2  Social_3  \\\n",
       "1497  254084.534396    1.0        6       B        30      6141        10   \n",
       "4189  243028.603096    2.0        8       B        25      4756        16   \n",
       "\n",
       "         Square  \n",
       "1497  37.265070  \n",
       "4189  44.791836  "
      ]
     },
     "execution_count": 79,
     "metadata": {},
     "output_type": "execute_result"
    }
   ],
   "source": [
    "total_df.query(\"HouseYear>2020\")"
   ]
  },
  {
   "cell_type": "code",
   "execution_count": 80,
   "metadata": {},
   "outputs": [
    {
     "data": {
      "text/html": [
       "<div>\n",
       "<style>\n",
       "    .dataframe thead tr:only-child th {\n",
       "        text-align: right;\n",
       "    }\n",
       "\n",
       "    .dataframe thead th {\n",
       "        text-align: left;\n",
       "    }\n",
       "\n",
       "    .dataframe tbody tr th {\n",
       "        vertical-align: top;\n",
       "    }\n",
       "</style>\n",
       "<table border=\"1\" class=\"dataframe\">\n",
       "  <thead>\n",
       "    <tr style=\"text-align: right;\">\n",
       "      <th></th>\n",
       "      <th>Id</th>\n",
       "      <th>DistrictId</th>\n",
       "      <th>Rooms</th>\n",
       "      <th>Square</th>\n",
       "      <th>KitchenSquare</th>\n",
       "      <th>Floor</th>\n",
       "      <th>HouseFloor</th>\n",
       "      <th>HouseYear</th>\n",
       "      <th>Ecology_1</th>\n",
       "      <th>Ecology_2</th>\n",
       "      <th>Ecology_3</th>\n",
       "      <th>Social_1</th>\n",
       "      <th>Social_2</th>\n",
       "      <th>Social_3</th>\n",
       "      <th>Helthcare_2</th>\n",
       "      <th>Shops_1</th>\n",
       "      <th>Shops_2</th>\n",
       "      <th>Price</th>\n",
       "    </tr>\n",
       "  </thead>\n",
       "  <tbody>\n",
       "  </tbody>\n",
       "</table>\n",
       "</div>"
      ],
      "text/plain": [
       "Empty DataFrame\n",
       "Columns: [Id, DistrictId, Rooms, Square, KitchenSquare, Floor, HouseFloor, HouseYear, Ecology_1, Ecology_2, Ecology_3, Social_1, Social_2, Social_3, Helthcare_2, Shops_1, Shops_2, Price]\n",
       "Index: []"
      ]
     },
     "execution_count": 80,
     "metadata": {},
     "output_type": "execute_result"
    }
   ],
   "source": [
    "def cleanHouseYear(df):\n",
    "    df.loc[df['HouseYear'] > 2020, 'HouseYear'] = 2020\n",
    "    \n",
    "cleanHouseYear(train_df)\n",
    "train_df.query(\"HouseYear>2020\")"
   ]
  },
  {
   "cell_type": "markdown",
   "metadata": {},
   "source": [
    "## 2. Построение модели"
   ]
  },
  {
   "cell_type": "code",
   "execution_count": 81,
   "metadata": {
    "collapsed": true
   },
   "outputs": [],
   "source": [
    "feature_names = ['DistrictId', 'Rooms', 'Square', 'KitchenSquare', 'Floor', 'HouseFloor', 'HouseYear',\n",
    "                 'Ecology_1', 'Ecology_2', 'Ecology_3', 'Social_1', 'Social_2', 'Social_3',\n",
    "                 'Helthcare_2', 'Shops_1', 'Shops_2']\n",
    "\n",
    "target_name = 'Price'"
   ]
  },
  {
   "cell_type": "code",
   "execution_count": 82,
   "metadata": {
    "collapsed": true
   },
   "outputs": [],
   "source": [
    "X = train_df[feature_names]\n",
    "y = train_df[target_name]"
   ]
  },
  {
   "cell_type": "code",
   "execution_count": 83,
   "metadata": {},
   "outputs": [
    {
     "data": {
      "text/html": [
       "<div>\n",
       "<style>\n",
       "    .dataframe thead tr:only-child th {\n",
       "        text-align: right;\n",
       "    }\n",
       "\n",
       "    .dataframe thead th {\n",
       "        text-align: left;\n",
       "    }\n",
       "\n",
       "    .dataframe tbody tr th {\n",
       "        vertical-align: top;\n",
       "    }\n",
       "</style>\n",
       "<table border=\"1\" class=\"dataframe\">\n",
       "  <thead>\n",
       "    <tr style=\"text-align: right;\">\n",
       "      <th></th>\n",
       "      <th>DistrictId</th>\n",
       "      <th>Rooms</th>\n",
       "      <th>Square</th>\n",
       "      <th>KitchenSquare</th>\n",
       "      <th>Floor</th>\n",
       "      <th>HouseFloor</th>\n",
       "      <th>HouseYear</th>\n",
       "      <th>Ecology_1</th>\n",
       "      <th>Ecology_2</th>\n",
       "      <th>Ecology_3</th>\n",
       "      <th>Social_1</th>\n",
       "      <th>Social_2</th>\n",
       "      <th>Social_3</th>\n",
       "      <th>Helthcare_2</th>\n",
       "      <th>Shops_1</th>\n",
       "      <th>Shops_2</th>\n",
       "    </tr>\n",
       "  </thead>\n",
       "  <tbody>\n",
       "    <tr>\n",
       "      <th>0</th>\n",
       "      <td>35</td>\n",
       "      <td>2.0</td>\n",
       "      <td>47.981561</td>\n",
       "      <td>6.0</td>\n",
       "      <td>7.0</td>\n",
       "      <td>9.0</td>\n",
       "      <td>1969</td>\n",
       "      <td>0.089040</td>\n",
       "      <td>1</td>\n",
       "      <td>1</td>\n",
       "      <td>33</td>\n",
       "      <td>7976</td>\n",
       "      <td>5</td>\n",
       "      <td>0</td>\n",
       "      <td>11</td>\n",
       "      <td>1</td>\n",
       "    </tr>\n",
       "    <tr>\n",
       "      <th>1</th>\n",
       "      <td>41</td>\n",
       "      <td>3.0</td>\n",
       "      <td>65.683640</td>\n",
       "      <td>8.0</td>\n",
       "      <td>7.0</td>\n",
       "      <td>9.0</td>\n",
       "      <td>1978</td>\n",
       "      <td>0.000070</td>\n",
       "      <td>1</td>\n",
       "      <td>1</td>\n",
       "      <td>46</td>\n",
       "      <td>10309</td>\n",
       "      <td>1</td>\n",
       "      <td>1</td>\n",
       "      <td>16</td>\n",
       "      <td>1</td>\n",
       "    </tr>\n",
       "    <tr>\n",
       "      <th>2</th>\n",
       "      <td>53</td>\n",
       "      <td>2.0</td>\n",
       "      <td>44.947953</td>\n",
       "      <td>4.0</td>\n",
       "      <td>8.0</td>\n",
       "      <td>12.0</td>\n",
       "      <td>1968</td>\n",
       "      <td>0.049637</td>\n",
       "      <td>1</td>\n",
       "      <td>1</td>\n",
       "      <td>34</td>\n",
       "      <td>7759</td>\n",
       "      <td>0</td>\n",
       "      <td>1</td>\n",
       "      <td>3</td>\n",
       "      <td>1</td>\n",
       "    </tr>\n",
       "    <tr>\n",
       "      <th>3</th>\n",
       "      <td>58</td>\n",
       "      <td>2.0</td>\n",
       "      <td>53.352981</td>\n",
       "      <td>9.0</td>\n",
       "      <td>8.0</td>\n",
       "      <td>17.0</td>\n",
       "      <td>1977</td>\n",
       "      <td>0.437885</td>\n",
       "      <td>1</td>\n",
       "      <td>1</td>\n",
       "      <td>23</td>\n",
       "      <td>5735</td>\n",
       "      <td>3</td>\n",
       "      <td>0</td>\n",
       "      <td>5</td>\n",
       "      <td>1</td>\n",
       "    </tr>\n",
       "    <tr>\n",
       "      <th>4</th>\n",
       "      <td>99</td>\n",
       "      <td>1.0</td>\n",
       "      <td>39.649192</td>\n",
       "      <td>7.0</td>\n",
       "      <td>11.0</td>\n",
       "      <td>12.0</td>\n",
       "      <td>1976</td>\n",
       "      <td>0.012339</td>\n",
       "      <td>1</td>\n",
       "      <td>1</td>\n",
       "      <td>35</td>\n",
       "      <td>5776</td>\n",
       "      <td>1</td>\n",
       "      <td>2</td>\n",
       "      <td>4</td>\n",
       "      <td>1</td>\n",
       "    </tr>\n",
       "  </tbody>\n",
       "</table>\n",
       "</div>"
      ],
      "text/plain": [
       "   DistrictId  Rooms     Square  KitchenSquare  Floor  HouseFloor  HouseYear  \\\n",
       "0          35    2.0  47.981561            6.0    7.0         9.0       1969   \n",
       "1          41    3.0  65.683640            8.0    7.0         9.0       1978   \n",
       "2          53    2.0  44.947953            4.0    8.0        12.0       1968   \n",
       "3          58    2.0  53.352981            9.0    8.0        17.0       1977   \n",
       "4          99    1.0  39.649192            7.0   11.0        12.0       1976   \n",
       "\n",
       "   Ecology_1  Ecology_2  Ecology_3  Social_1  Social_2  Social_3  Helthcare_2  \\\n",
       "0   0.089040          1          1        33      7976         5            0   \n",
       "1   0.000070          1          1        46     10309         1            1   \n",
       "2   0.049637          1          1        34      7759         0            1   \n",
       "3   0.437885          1          1        23      5735         3            0   \n",
       "4   0.012339          1          1        35      5776         1            2   \n",
       "\n",
       "   Shops_1  Shops_2  \n",
       "0       11        1  \n",
       "1       16        1  \n",
       "2        3        1  \n",
       "3        5        1  \n",
       "4        4        1  "
      ]
     },
     "execution_count": 83,
     "metadata": {},
     "output_type": "execute_result"
    }
   ],
   "source": [
    "X.head()"
   ]
  },
  {
   "cell_type": "code",
   "execution_count": 84,
   "metadata": {},
   "outputs": [
    {
     "data": {
      "text/plain": [
       "0    184966.930730\n",
       "1    300009.450063\n",
       "2    220925.908524\n",
       "3    175616.227217\n",
       "4    150226.531644\n",
       "Name: Price, dtype: float64"
      ]
     },
     "execution_count": 84,
     "metadata": {},
     "output_type": "execute_result"
    }
   ],
   "source": [
    "y.head()"
   ]
  },
  {
   "cell_type": "markdown",
   "metadata": {},
   "source": [
    "### Попробуем линейную регрессию"
   ]
  },
  {
   "cell_type": "code",
   "execution_count": 85,
   "metadata": {
    "collapsed": true
   },
   "outputs": [],
   "source": [
    "lr = LinearRegression()\n",
    "lr.fit(X, y)\n",
    "y_pred = lr.predict(X)"
   ]
  },
  {
   "cell_type": "code",
   "execution_count": 86,
   "metadata": {},
   "outputs": [
    {
     "name": "stdout",
     "output_type": "stream",
     "text": [
      "Train R2:\t0.495\n"
     ]
    },
    {
     "data": {
      "text/plain": [
       "<matplotlib.figure.Figure at 0x237a3edcac8>"
      ]
     },
     "metadata": {},
     "output_type": "display_data"
    },
    {
     "data": {
      "image/png": "[encoded data removed]",
      "text/plain": [
       "<matplotlib.figure.Figure at 0x237a3ea7198>"
      ]
     },
     "metadata": {},
     "output_type": "display_data"
    }
   ],
   "source": [
    "evaluate_preds(y, y_pred)"
   ]
  },
  {
   "cell_type": "markdown",
   "metadata": {},
   "source": [
    "### Теперь попробуем случайный лес"
   ]
  },
  {
   "cell_type": "code",
   "execution_count": 87,
   "metadata": {
    "collapsed": true
   },
   "outputs": [],
   "source": [
    "rf = RandomForestRegressor(random_state=21, criterion='mse')\n",
    "rf.fit(X, y)\n",
    "y_pred = rf.predict(X)"
   ]
  },
  {
   "cell_type": "code",
   "execution_count": 88,
   "metadata": {},
   "outputs": [
    {
     "name": "stdout",
     "output_type": "stream",
     "text": [
      "Train R2:\t0.947\n"
     ]
    },
    {
     "data": {
      "text/plain": [
       "<matplotlib.figure.Figure at 0x237a41eab38>"
      ]
     },
     "metadata": {},
     "output_type": "display_data"
    },
    {
     "data": {
      "image/png": "[encoded data removed]",
      "text/plain": [
       "<matplotlib.figure.Figure at 0x2379f8d5438>"
      ]
     },
     "metadata": {},
     "output_type": "display_data"
    }
   ],
   "source": [
    "evaluate_preds(y, y_pred)"
   ]
  },
  {
   "cell_type": "code",
   "execution_count": 89,
   "metadata": {},
   "outputs": [
    {
     "data": {
      "text/html": [
       "<div>\n",
       "<style>\n",
       "    .dataframe thead tr:only-child th {\n",
       "        text-align: right;\n",
       "    }\n",
       "\n",
       "    .dataframe thead th {\n",
       "        text-align: left;\n",
       "    }\n",
       "\n",
       "    .dataframe tbody tr th {\n",
       "        vertical-align: top;\n",
       "    }\n",
       "</style>\n",
       "<table border=\"1\" class=\"dataframe\">\n",
       "  <thead>\n",
       "    <tr style=\"text-align: right;\">\n",
       "      <th></th>\n",
       "      <th>feature</th>\n",
       "      <th>importance</th>\n",
       "    </tr>\n",
       "  </thead>\n",
       "  <tbody>\n",
       "    <tr>\n",
       "      <th>2</th>\n",
       "      <td>Square</td>\n",
       "      <td>0.397398</td>\n",
       "    </tr>\n",
       "    <tr>\n",
       "      <th>11</th>\n",
       "      <td>Social_2</td>\n",
       "      <td>0.103855</td>\n",
       "    </tr>\n",
       "    <tr>\n",
       "      <th>1</th>\n",
       "      <td>Rooms</td>\n",
       "      <td>0.086352</td>\n",
       "    </tr>\n",
       "    <tr>\n",
       "      <th>10</th>\n",
       "      <td>Social_1</td>\n",
       "      <td>0.086257</td>\n",
       "    </tr>\n",
       "    <tr>\n",
       "      <th>12</th>\n",
       "      <td>Social_3</td>\n",
       "      <td>0.058632</td>\n",
       "    </tr>\n",
       "    <tr>\n",
       "      <th>0</th>\n",
       "      <td>DistrictId</td>\n",
       "      <td>0.053995</td>\n",
       "    </tr>\n",
       "    <tr>\n",
       "      <th>6</th>\n",
       "      <td>HouseYear</td>\n",
       "      <td>0.045324</td>\n",
       "    </tr>\n",
       "    <tr>\n",
       "      <th>7</th>\n",
       "      <td>Ecology_1</td>\n",
       "      <td>0.043867</td>\n",
       "    </tr>\n",
       "    <tr>\n",
       "      <th>4</th>\n",
       "      <td>Floor</td>\n",
       "      <td>0.030902</td>\n",
       "    </tr>\n",
       "    <tr>\n",
       "      <th>3</th>\n",
       "      <td>KitchenSquare</td>\n",
       "      <td>0.028775</td>\n",
       "    </tr>\n",
       "    <tr>\n",
       "      <th>5</th>\n",
       "      <td>HouseFloor</td>\n",
       "      <td>0.027511</td>\n",
       "    </tr>\n",
       "    <tr>\n",
       "      <th>14</th>\n",
       "      <td>Shops_1</td>\n",
       "      <td>0.025268</td>\n",
       "    </tr>\n",
       "    <tr>\n",
       "      <th>13</th>\n",
       "      <td>Helthcare_2</td>\n",
       "      <td>0.009644</td>\n",
       "    </tr>\n",
       "    <tr>\n",
       "      <th>15</th>\n",
       "      <td>Shops_2</td>\n",
       "      <td>0.001119</td>\n",
       "    </tr>\n",
       "    <tr>\n",
       "      <th>8</th>\n",
       "      <td>Ecology_2</td>\n",
       "      <td>0.000615</td>\n",
       "    </tr>\n",
       "    <tr>\n",
       "      <th>9</th>\n",
       "      <td>Ecology_3</td>\n",
       "      <td>0.000486</td>\n",
       "    </tr>\n",
       "  </tbody>\n",
       "</table>\n",
       "</div>"
      ],
      "text/plain": [
       "          feature  importance\n",
       "2          Square    0.397398\n",
       "11       Social_2    0.103855\n",
       "1           Rooms    0.086352\n",
       "10       Social_1    0.086257\n",
       "12       Social_3    0.058632\n",
       "0      DistrictId    0.053995\n",
       "6       HouseYear    0.045324\n",
       "7       Ecology_1    0.043867\n",
       "4           Floor    0.030902\n",
       "3   KitchenSquare    0.028775\n",
       "5      HouseFloor    0.027511\n",
       "14        Shops_1    0.025268\n",
       "13    Helthcare_2    0.009644\n",
       "15        Shops_2    0.001119\n",
       "8       Ecology_2    0.000615\n",
       "9       Ecology_3    0.000486"
      ]
     },
     "execution_count": 89,
     "metadata": {},
     "output_type": "execute_result"
    }
   ],
   "source": [
    "importance = pd.DataFrame({'feature':X.columns.get_values(), 'importance':rf.feature_importances_})\n",
    "importance.sort_values(by='importance', ascending=False,inplace=True)\n",
    "importance"
   ]
  },
  {
   "cell_type": "markdown",
   "metadata": {},
   "source": [
    "## 2. Предсказание для kaggle на тестовом датасете"
   ]
  },
  {
   "cell_type": "code",
   "execution_count": 90,
   "metadata": {},
   "outputs": [],
   "source": [
    "handleNulls(test_df)\n",
    "handleObjects(test_df)\n",
    "cleanKitchenSquare(test_df)\n",
    "cleanFloor(test_df)\n",
    "cleanHouseYear(test_df)\n",
    "\n",
    "X_test = test_df[feature_names]\n",
    "y_pred_test = rf.predict(X_test)"
   ]
  },
  {
   "cell_type": "code",
   "execution_count": 91,
   "metadata": {},
   "outputs": [],
   "source": [
    "submit = pd.read_csv('sample_submission.csv')\n"
   ]
  },
  {
   "cell_type": "code",
   "execution_count": 92,
   "metadata": {},
   "outputs": [],
   "source": [
    "submit['Price'] = y_pred_test\n"
   ]
  },
  {
   "cell_type": "code",
   "execution_count": 93,
   "metadata": {
    "collapsed": true
   },
   "outputs": [],
   "source": [
    "submit.to_csv('submission.csv', index=False)"
   ]
  },
  {
   "cell_type": "code",
   "execution_count": null,
   "metadata": {
    "collapsed": true
   },
   "outputs": [],
   "source": []
  }
 ],
 "metadata": {
  "kernelspec": {
   "display_name": "Python 3",
   "language": "python",
   "name": "python3"
  },
  "language_info": {
   "codemirror_mode": {
    "name": "ipython",
    "version": 3
   },
   "file_extension": ".py",
   "mimetype": "text/x-python",
   "name": "python",
   "nbconvert_exporter": "python",
   "pygments_lexer": "ipython3",
   "version": "3.6.3"
  }
 },
 "nbformat": 4,
 "nbformat_minor": 2
}
